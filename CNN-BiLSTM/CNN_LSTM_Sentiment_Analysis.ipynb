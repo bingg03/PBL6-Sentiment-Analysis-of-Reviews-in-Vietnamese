{
  "nbformat": 4,
  "nbformat_minor": 0,
  "metadata": {
    "colab": {
      "provenance": [],
      "gpuType": "V28"
    },
    "kernelspec": {
      "name": "python3",
      "display_name": "Python 3"
    },
    "language_info": {
      "name": "python"
    },
    "accelerator": "TPU"
  },
  "cells": [
    {
      "cell_type": "code",
      "source": [
        "!pip install underthesea gensim h5py"
      ],
      "metadata": {
        "colab": {
          "base_uri": "https://localhost:8080/"
        },
        "id": "tbPtoPEt-_CQ",
        "outputId": "c0454d49-3703-47ec-e9d0-c03141b213be"
      },
      "execution_count": null,
      "outputs": [
        {
          "output_type": "stream",
          "name": "stdout",
          "text": [
            "Collecting underthesea\n",
            "  Downloading underthesea-6.8.4-py3-none-any.whl.metadata (15 kB)\n",
            "Requirement already satisfied: gensim in /usr/local/lib/python3.10/dist-packages (4.3.3)\n",
            "Requirement already satisfied: h5py in /usr/local/lib/python3.10/dist-packages (3.12.1)\n",
            "Requirement already satisfied: Click>=6.0 in /usr/local/lib/python3.10/dist-packages (from underthesea) (8.1.7)\n",
            "Collecting python-crfsuite>=0.9.6 (from underthesea)\n",
            "  Downloading python_crfsuite-0.9.11-cp310-cp310-manylinux_2_17_x86_64.manylinux2014_x86_64.whl.metadata (4.3 kB)\n",
            "Requirement already satisfied: nltk in /usr/local/lib/python3.10/dist-packages (from underthesea) (3.9.1)\n",
            "Requirement already satisfied: tqdm in /usr/local/lib/python3.10/dist-packages (from underthesea) (4.66.6)\n",
            "Requirement already satisfied: requests in /usr/local/lib/python3.10/dist-packages (from underthesea) (2.32.3)\n",
            "Requirement already satisfied: joblib in /usr/local/lib/python3.10/dist-packages (from underthesea) (1.4.2)\n",
            "Requirement already satisfied: scikit-learn in /usr/local/lib/python3.10/dist-packages (from underthesea) (1.5.2)\n",
            "Requirement already satisfied: PyYAML in /usr/local/lib/python3.10/dist-packages (from underthesea) (6.0.2)\n",
            "Collecting underthesea-core==1.0.4 (from underthesea)\n",
            "  Downloading underthesea_core-1.0.4-cp310-cp310-manylinux2010_x86_64.whl.metadata (1.7 kB)\n",
            "Requirement already satisfied: numpy<2.0,>=1.18.5 in /usr/local/lib/python3.10/dist-packages (from gensim) (1.26.4)\n",
            "Requirement already satisfied: scipy<1.14.0,>=1.7.0 in /usr/local/lib/python3.10/dist-packages (from gensim) (1.13.1)\n",
            "Requirement already satisfied: smart-open>=1.8.1 in /usr/local/lib/python3.10/dist-packages (from gensim) (7.0.5)\n",
            "Requirement already satisfied: wrapt in /usr/local/lib/python3.10/dist-packages (from smart-open>=1.8.1->gensim) (1.14.1)\n",
            "Requirement already satisfied: regex>=2021.8.3 in /usr/local/lib/python3.10/dist-packages (from nltk->underthesea) (2024.11.6)\n",
            "Requirement already satisfied: charset-normalizer<4,>=2 in /usr/local/lib/python3.10/dist-packages (from requests->underthesea) (3.4.0)\n",
            "Requirement already satisfied: idna<4,>=2.5 in /usr/local/lib/python3.10/dist-packages (from requests->underthesea) (3.10)\n",
            "Requirement already satisfied: urllib3<3,>=1.21.1 in /usr/local/lib/python3.10/dist-packages (from requests->underthesea) (2.2.3)\n",
            "Requirement already satisfied: certifi>=2017.4.17 in /usr/local/lib/python3.10/dist-packages (from requests->underthesea) (2024.8.30)\n",
            "Requirement already satisfied: threadpoolctl>=3.1.0 in /usr/local/lib/python3.10/dist-packages (from scikit-learn->underthesea) (3.5.0)\n",
            "Downloading underthesea-6.8.4-py3-none-any.whl (20.9 MB)\n",
            "\u001b[2K   \u001b[90m━━━━━━━━━━━━━━━━━━━━━━━━━━━━━━━━━━━━━━━━\u001b[0m \u001b[32m20.9/20.9 MB\u001b[0m \u001b[31m88.8 MB/s\u001b[0m eta \u001b[36m0:00:00\u001b[0m\n",
            "\u001b[?25hDownloading underthesea_core-1.0.4-cp310-cp310-manylinux2010_x86_64.whl (657 kB)\n",
            "\u001b[2K   \u001b[90m━━━━━━━━━━━━━━━━━━━━━━━━━━━━━━━━━━━━━━━━\u001b[0m \u001b[32m657.8/657.8 kB\u001b[0m \u001b[31m39.7 MB/s\u001b[0m eta \u001b[36m0:00:00\u001b[0m\n",
            "\u001b[?25hDownloading python_crfsuite-0.9.11-cp310-cp310-manylinux_2_17_x86_64.manylinux2014_x86_64.whl (1.2 MB)\n",
            "\u001b[2K   \u001b[90m━━━━━━━━━━━━━━━━━━━━━━━━━━━━━━━━━━━━━━━━\u001b[0m \u001b[32m1.2/1.2 MB\u001b[0m \u001b[31m57.0 MB/s\u001b[0m eta \u001b[36m0:00:00\u001b[0m\n",
            "\u001b[?25hInstalling collected packages: underthesea-core, python-crfsuite, underthesea\n",
            "Successfully installed python-crfsuite-0.9.11 underthesea-6.8.4 underthesea-core-1.0.4\n"
          ]
        }
      ]
    },
    {
      "cell_type": "code",
      "source": [
        "import numpy as np\n",
        "import pandas as pd\n",
        "import os\n",
        "import re\n",
        "from collections import Counter\n",
        "from sklearn.metrics import (confusion_matrix, classification_report,\n",
        "                             roc_auc_score, f1_score)\n",
        "import matplotlib.pyplot as plt\n",
        "import seaborn as sns\n",
        "import tensorflow as tf\n",
        "from tensorflow.keras.models import Model, load_model\n",
        "from tensorflow.keras.layers import (\n",
        "    Embedding, Conv1D, MaxPooling1D, LSTM, Dense, Dropout, BatchNormalization,\n",
        "    Bidirectional, Input, Layer, Masking, concatenate\n",
        ")\n",
        "from tensorflow.keras.regularizers import l2\n",
        "from tensorflow.keras.callbacks import ModelCheckpoint, ReduceLROnPlateau, EarlyStopping\n",
        "from tensorflow.keras.optimizers import Adam, RMSprop\n",
        "from tensorflow.keras.preprocessing.sequence import pad_sequences\n",
        "import tensorflow.keras.backend as K"
      ],
      "metadata": {
        "id": "Qj7dA_MhVI17"
      },
      "execution_count": null,
      "outputs": []
    },
    {
      "cell_type": "markdown",
      "source": [
        "**1. Kết Nối GGDrive**"
      ],
      "metadata": {
        "id": "SUwJEJs1DE67"
      }
    },
    {
      "cell_type": "code",
      "source": [
        "# Kết nối Google Drive\n",
        "from google.colab import drive\n",
        "drive.mount('/content/drive')\n",
        "\n",
        "# Thiết lập đường dẫn\n",
        "root_path = \"/content/drive/MyDrive/PBL6\"\n",
        "data_path = os.path.join(root_path, \"DATASET\")\n",
        "voca_path = os.path.join(root_path, \"voca.txt\")"
      ],
      "metadata": {
        "colab": {
          "base_uri": "https://localhost:8080/"
        },
        "id": "stTAItptDww7",
        "outputId": "f556a320-f738-4a43-e226-90f08b38f55c"
      },
      "execution_count": null,
      "outputs": [
        {
          "output_type": "stream",
          "name": "stdout",
          "text": [
            "Mounted at /content/drive\n"
          ]
        }
      ]
    },
    {
      "cell_type": "markdown",
      "source": [
        "**2. Load dữ liệu**"
      ],
      "metadata": {
        "id": "JLGZgtJNfLE8"
      }
    },
    {
      "cell_type": "code",
      "source": [
        "# Tải dữ liệu\n",
        "train_df = pd.read_csv(os.path.join(data_path, \"train.csv\"))\n",
        "test_df = pd.read_csv(os.path.join(data_path, \"test.csv\"))\n",
        "validation_df = pd.read_csv(os.path.join(data_path, \"validation.csv\"))\n",
        "\n",
        "# Kiểm tra dữ liệu\n",
        "print(\"Train Data:\")\n",
        "print(train_df.head())\n",
        "print(\"\\nTest Data:\")\n",
        "print(test_df.head())\n",
        "print(\"\\nValidation Data:\")\n",
        "print(validation_df.head())\n",
        "\n",
        "# Kiểm tra phân bố nhãn\n",
        "print(\"Phân bố nhãn trong tập Train:\")\n",
        "print(train_df['label'].value_counts())\n",
        "print(\"\\nPhân bố nhãn trong tập Test:\")\n",
        "print(test_df['label'].value_counts())\n",
        "print(\"\\nPhân bố nhãn trong tập Validation:\")\n",
        "print(validation_df['label'].value_counts())"
      ],
      "metadata": {
        "colab": {
          "base_uri": "https://localhost:8080/"
        },
        "id": "yXCEOLD3erZa",
        "outputId": "88e2acb5-2eab-4680-d6d9-f1e0b6790144"
      },
      "execution_count": null,
      "outputs": [
        {
          "output_type": "stream",
          "name": "stdout",
          "text": [
            "Train Data:\n",
            "                                              review  label\n",
            "0                                   âm_thanh cũng ổn      1\n",
            "1                                    âm_thanh dở quá      0\n",
            "2                                    âm_thanh dở quá      0\n",
            "3                      âm_thanh hay to rõ chất lương      1\n",
            "4  âm_thanh loa nhỏ không kết_nối đề_nghị gửi trả...      0\n",
            "\n",
            "Test Data:\n",
            "                                              review  label\n",
            "0  gởi hàng đúng quảng_cáo giá rẻ dùng ok giá thì...      1\n",
            "1                                 dễ sử_dụng bảo_trì      1\n",
            "2  hàng đóng_gói cẩn_thận chất_lượng sản_phẩm ổn ...      1\n",
            "3  ổn mới mua về chưa sạc nên đèn hơi yếu cắm điệ...      0\n",
            "4                             hàng giả nha mọi người      0\n",
            "\n",
            "Validation Data:\n",
            "                                              review  label\n",
            "0  đặt_hàng giao thiếu hàng nhan tin thì không th...      0\n",
            "1  bền không thấm nước sử_dụng hiệu_quả giá rẻ áo...      1\n",
            "2  đóng_gói cẩn_thận cửa_hàng_giáo hàng nhanh sản...      1\n",
            "3  quá tệ không mùi hygiene mẫu sáng mùi thơm dễ_...      0\n",
            "4              quá tệ không dùng cũng không trả hàng      0\n",
            "Phân bố nhãn trong tập Train:\n",
            "label\n",
            "1    1863\n",
            "0    1465\n",
            "Name: count, dtype: int64\n",
            "\n",
            "Phân bố nhãn trong tập Test:\n",
            "label\n",
            "1    234\n",
            "0    184\n",
            "Name: count, dtype: int64\n",
            "\n",
            "Phân bố nhãn trong tập Validation:\n",
            "label\n",
            "1    233\n",
            "0    183\n",
            "Name: count, dtype: int64\n"
          ]
        }
      ]
    },
    {
      "cell_type": "markdown",
      "source": [
        "**3. Tạo Từ Điển với Token `<PAD>` Riêng Biệt**"
      ],
      "metadata": {
        "id": "5DanfeFhfQ2q"
      }
    },
    {
      "cell_type": "code",
      "source": [
        "from collections import Counter\n",
        "\n",
        "# Xây dựng từ điển từ tập train với min_count=2\n",
        "all_words = ' '.join(train_df['review']).split()\n",
        "word_counts = Counter(all_words)\n",
        "sorted_words = word_counts.most_common()\n",
        "\n",
        "min_count = 2\n",
        "filtered_words = [word for word, count in sorted_words if count >= min_count]\n",
        "\n",
        "# Khởi tạo từ điển với các token đặc biệt\n",
        "vocab = {'<PAD>': 0, 'digit': 1, 'unknown': 2}\n",
        "for idx, word in enumerate(filtered_words, start=3):\n",
        "    vocab[word] = idx\n",
        "\n",
        "# Lưu từ điển vào file voca.txt\n",
        "with open(voca_path, 'w', encoding='utf-8') as f:\n",
        "    for word, idx in vocab.items():\n",
        "        f.write(f\"{word}\\t{idx}\\n\")\n",
        "\n",
        "print(f\"Size of vocabulary after filtering: {len(vocab)}\")"
      ],
      "metadata": {
        "colab": {
          "base_uri": "https://localhost:8080/"
        },
        "id": "OlC89hWxfWbr",
        "outputId": "90950062-1698-4e5b-ba22-a122fd743394"
      },
      "execution_count": null,
      "outputs": [
        {
          "output_type": "stream",
          "name": "stdout",
          "text": [
            "Size of vocabulary after filtering: 1713\n"
          ]
        }
      ]
    },
    {
      "cell_type": "markdown",
      "source": [
        "**4. Vector hóa**"
      ],
      "metadata": {
        "id": "t1TI4Krf_8B1"
      }
    },
    {
      "cell_type": "code",
      "source": [
        "def text_to_sequence(text, vocab):\n",
        "    words = text.split()\n",
        "    sequence = []\n",
        "    for word in words:\n",
        "        if word.isdigit():\n",
        "            sequence.append(vocab.get('digit', 1))\n",
        "        elif word in vocab:\n",
        "            sequence.append(vocab[word])\n",
        "        else:\n",
        "            sequence.append(vocab.get('unknown', 2))\n",
        "    return sequence\n",
        "\n",
        "# # Tìm độ dài tối đa của các câu trong tập dữ liệu\n",
        "# all_lengths = train_df['review'].apply(lambda x: len(x.split()))\n",
        "max_length = 25\n",
        "\n",
        "\n",
        "# Áp dụng pad_sequences với token `<PAD>`\n",
        "X_train = pad_sequences(\n",
        "    train_df['review'].apply(lambda x: text_to_sequence(x, vocab)).tolist(),\n",
        "    maxlen=max_length,\n",
        "    padding='post',\n",
        "    truncating='post',\n",
        "    value=vocab['<PAD>']\n",
        ")\n",
        "y_train = np.array(train_df['label'].tolist())\n",
        "\n",
        "X_test = pad_sequences(\n",
        "    test_df['review'].apply(lambda x: text_to_sequence(x, vocab)).tolist(),\n",
        "    maxlen=max_length,\n",
        "    padding='post',\n",
        "    truncating='post',\n",
        "    value=vocab['<PAD>']\n",
        ")\n",
        "y_test = np.array(test_df['label'].tolist())\n",
        "\n",
        "X_validation = pad_sequences(\n",
        "    validation_df['review'].apply(lambda x: text_to_sequence(x, vocab)).tolist(),\n",
        "    maxlen=max_length,\n",
        "    padding='post',\n",
        "    truncating='post',\n",
        "    value=vocab['<PAD>']\n",
        ")\n",
        "y_validation = np.array(validation_df['label'].tolist())\n",
        "\n",
        "print(f\"Shape of X_train: {X_train.shape}\")\n",
        "print(f\"Shape of X_test: {X_test.shape}\")\n",
        "print(f\"Shape of X_validation: {X_validation.shape}\")\n",
        "\n",
        "# Đọc lại từ điển\n",
        "with open(voca_path, 'r', encoding='utf-8') as f:\n",
        "    vocab_loaded = {line.split('\\t')[0]: int(line.split('\\t')[1]) for line in f.readlines()}\n",
        "\n",
        "print(f\"Index of '<PAD>': {vocab_loaded.get('<PAD>', 'Not Found')}\")\n",
        "print(f\"Index of 'digit': {vocab_loaded.get('digit', 'Not Found')}\")\n",
        "print(f\"Index of 'unknown': {vocab_loaded.get('unknown', 'Not Found')}\")\n",
        "\n",
        "# Tính tỷ lệ các từ \"unknown\" trong tập huấn luyện và validation\n",
        "unknown_train = np.sum(X_train == vocab['unknown'])\n",
        "total_train = X_train.size\n",
        "print(f\"Tỷ lệ 'unknown' trong tập huấn luyện: {unknown_train / total_train * 100:.2f}%\")\n",
        "\n",
        "unknown_val = np.sum(X_validation == vocab['unknown'])\n",
        "total_val = X_validation.size\n",
        "print(f\"Tỷ lệ 'unknown' trong tập validation: {unknown_val / total_val * 100:.2f}%\")"
      ],
      "metadata": {
        "id": "djUsQw3Oju6v",
        "colab": {
          "base_uri": "https://localhost:8080/"
        },
        "outputId": "329d8a0e-9d30-469f-9077-df0d3575d719"
      },
      "execution_count": null,
      "outputs": [
        {
          "output_type": "stream",
          "name": "stdout",
          "text": [
            "Shape of X_train: (3328, 25)\n",
            "Shape of X_test: (418, 25)\n",
            "Shape of X_validation: (416, 25)\n",
            "Index of '<PAD>': 0\n",
            "Index of 'digit': 1\n",
            "Index of 'unknown': 2\n",
            "Tỷ lệ 'unknown' trong tập huấn luyện: 0.99%\n",
            "Tỷ lệ 'unknown' trong tập validation: 2.27%\n"
          ]
        }
      ]
    },
    {
      "cell_type": "markdown",
      "source": [
        "**5. Tạo Ma Trận Embedding với Token `<PAD>`**"
      ],
      "metadata": {
        "id": "JEFybg5mALY9"
      }
    },
    {
      "cell_type": "code",
      "source": [
        "from gensim.models import Word2Vec\n",
        "# Xây dựng mô hình Word2Vec từ tập train\n",
        "sentences = [text.split() for text in train_df['review']]\n",
        "word2vec_model = Word2Vec(sentences, vector_size=128, window=5, min_count=2, workers=4)\n",
        "# Tạo ma trận embedding\n",
        "embedding_dim = 128\n",
        "embedding_matrix = np.random.normal(scale=0.6, size=(len(vocab), embedding_dim))\n",
        "# Khởi tạo vector cho các token đặc biệt\n",
        "embedding_matrix[vocab['<PAD>']] = np.zeros(embedding_dim)  # Vector padding là 0\n",
        "embedding_matrix[vocab['digit']] = np.random.normal(scale=0.6, size=(embedding_dim,))\n",
        "embedding_matrix[vocab['unknown']] = np.random.normal(scale=0.6, size=(embedding_dim,))\n",
        "# Cập nhật embedding cho các từ trong Word2Vec\n",
        "for word, idx in vocab.items():\n",
        "    if word in word2vec_model.wv and word not in ['<PAD>', 'digit', 'unknown']:\n",
        "        embedding_matrix[idx] = word2vec_model.wv[word]\n",
        "print(f\"Shape of embedding_matrix: {embedding_matrix.shape}\")"
      ],
      "metadata": {
        "colab": {
          "base_uri": "https://localhost:8080/"
        },
        "id": "Ele_AMj9jybh",
        "outputId": "3ed3ec97-6f6e-40f4-f743-5ac88074ec49"
      },
      "execution_count": null,
      "outputs": [
        {
          "output_type": "stream",
          "name": "stdout",
          "text": [
            "Shape of embedding_matrix: (1713, 128)\n"
          ]
        }
      ]
    },
    {
      "cell_type": "markdown",
      "source": [
        "**6. Xây Dựng Mô Hình với Masking và Các Lớp CNN & LSTM**"
      ],
      "metadata": {
        "id": "xticovWhAgbq"
      }
    },
    {
      "cell_type": "code",
      "source": [
        "# Định nghĩa đầu vào\n",
        "input_layer = Input(shape=(max_length,), name='Input')\n",
        "\n",
        "# Lớp Masking để bỏ qua các vị trí padding\n",
        "masking_layer = Masking(mask_value=vocab['<PAD>'], name='Masking')(input_layer)\n",
        "\n",
        "# Lớp Embedding sử dụng ma trận embedding đã tạo\n",
        "embedding_layer = Embedding(\n",
        "    input_dim=len(vocab),\n",
        "    output_dim=embedding_dim,\n",
        "    weights=[embedding_matrix],\n",
        "    trainable=True,  # Cho phép tinh chỉnh embedding\n",
        "    name='Embedding'\n",
        ")(masking_layer)\n",
        "\n",
        "# Lớp CNN với nhiều kernel_size khác nhau và padding='same'\n",
        "conv_filters = []\n",
        "kernel_sizes = [2, 3, 4]  # Các kích thước bộ lọc\n",
        "\n",
        "for kernel_size in kernel_sizes:\n",
        "    conv = Conv1D(\n",
        "        filters=64,  # Giảm số lượng filters từ 128 xuống 64\n",
        "        kernel_size=kernel_size,\n",
        "        activation='relu',\n",
        "        padding='same',\n",
        "        kernel_regularizer=l2(0.001),\n",
        "        name=f'Conv1D_{kernel_size}'\n",
        "    )(embedding_layer)\n",
        "    conv = BatchNormalization(name=f'BatchNorm_{kernel_size}')(conv)\n",
        "    conv = MaxPooling1D(pool_size=2, padding='same', name=f'MaxPool_{kernel_size}')(conv)\n",
        "    conv = Dropout(0.3, name=f'Dropout_{kernel_size}')(conv)  # Tăng dropout lên 0.3\n",
        "    conv_filters.append(conv)\n",
        "\n",
        "# Kết hợp các đặc trưng từ các lớp Conv khác nhau\n",
        "merged_conv = concatenate(conv_filters, axis=-1, name='Concatenate_Conv')\n",
        "\n",
        "# Lớp LSTM Bidirectional\n",
        "lstm_layer = Bidirectional(LSTM(\n",
        "    units=64,  # Giảm số lượng units từ 128 xuống 64\n",
        "    dropout=0.3,\n",
        "    recurrent_dropout=0.3,\n",
        "    return_sequences=True,\n",
        "    name='BiLSTM_64'\n",
        "))(merged_conv)\n",
        "\n",
        "lstm_layer = Bidirectional(LSTM(\n",
        "    units=32,  # Giảm số lượng units từ 64 xuống 32\n",
        "    dropout=0.3,\n",
        "    recurrent_dropout=0.3,\n",
        "    name='BiLSTM_32'\n",
        "))(lstm_layer)\n",
        "\n",
        "# Lớp Dense\n",
        "dense_layer = Dense(\n",
        "    units=32,  # Giảm số lượng units từ 64 xuống 32\n",
        "    activation='relu',\n",
        "    kernel_regularizer=l2(0.001),\n",
        "    name='Dense_32'\n",
        ")(lstm_layer)\n",
        "dense_layer = Dropout(0.3, name='Dropout_Dense')(dense_layer)  # Tăng dropout lên 0.3\n",
        "\n",
        "# Lớp Output\n",
        "output_layer = Dense(1, activation='sigmoid', name='Output')(dense_layer)\n",
        "\n",
        "# Tạo mô hình\n",
        "model = Model(inputs=input_layer, outputs=output_layer)\n",
        "\n",
        "# Tóm tắt mô hình\n",
        "model.summary()"
      ],
      "metadata": {
        "colab": {
          "base_uri": "https://localhost:8080/"
        },
        "id": "cHkFBYfxIaoy",
        "outputId": "55263e63-27ca-4633-9131-fd163ff5fa9d"
      },
      "execution_count": null,
      "outputs": [
        {
          "output_type": "stream",
          "name": "stdout",
          "text": [
            "Model: \"model_4\"\n",
            "__________________________________________________________________________________________________\n",
            " Layer (type)                Output Shape                 Param #   Connected to                  \n",
            "==================================================================================================\n",
            " Input (InputLayer)          [(None, 25)]                 0         []                            \n",
            "                                                                                                  \n",
            " Masking (Masking)           (None, 25)                   0         ['Input[0][0]']               \n",
            "                                                                                                  \n",
            " Embedding (Embedding)       (None, 25, 128)              219264    ['Masking[0][0]']             \n",
            "                                                                                                  \n",
            " Conv1D_2 (Conv1D)           (None, 25, 64)               16448     ['Embedding[0][0]']           \n",
            "                                                                                                  \n",
            " Conv1D_3 (Conv1D)           (None, 25, 64)               24640     ['Embedding[0][0]']           \n",
            "                                                                                                  \n",
            " Conv1D_4 (Conv1D)           (None, 25, 64)               32832     ['Embedding[0][0]']           \n",
            "                                                                                                  \n",
            " BatchNorm_2 (BatchNormaliz  (None, 25, 64)               256       ['Conv1D_2[0][0]']            \n",
            " ation)                                                                                           \n",
            "                                                                                                  \n",
            " BatchNorm_3 (BatchNormaliz  (None, 25, 64)               256       ['Conv1D_3[0][0]']            \n",
            " ation)                                                                                           \n",
            "                                                                                                  \n",
            " BatchNorm_4 (BatchNormaliz  (None, 25, 64)               256       ['Conv1D_4[0][0]']            \n",
            " ation)                                                                                           \n",
            "                                                                                                  \n",
            " MaxPool_2 (MaxPooling1D)    (None, 13, 64)               0         ['BatchNorm_2[0][0]']         \n",
            "                                                                                                  \n",
            " MaxPool_3 (MaxPooling1D)    (None, 13, 64)               0         ['BatchNorm_3[0][0]']         \n",
            "                                                                                                  \n",
            " MaxPool_4 (MaxPooling1D)    (None, 13, 64)               0         ['BatchNorm_4[0][0]']         \n",
            "                                                                                                  \n",
            " Dropout_2 (Dropout)         (None, 13, 64)               0         ['MaxPool_2[0][0]']           \n",
            "                                                                                                  \n",
            " Dropout_3 (Dropout)         (None, 13, 64)               0         ['MaxPool_3[0][0]']           \n",
            "                                                                                                  \n",
            " Dropout_4 (Dropout)         (None, 13, 64)               0         ['MaxPool_4[0][0]']           \n",
            "                                                                                                  \n",
            " Concatenate_Conv (Concaten  (None, 13, 192)              0         ['Dropout_2[0][0]',           \n",
            " ate)                                                                'Dropout_3[0][0]',           \n",
            "                                                                     'Dropout_4[0][0]']           \n",
            "                                                                                                  \n",
            " bidirectional_8 (Bidirecti  (None, 13, 128)              131584    ['Concatenate_Conv[0][0]']    \n",
            " onal)                                                                                            \n",
            "                                                                                                  \n",
            " bidirectional_9 (Bidirecti  (None, 64)                   41216     ['bidirectional_8[0][0]']     \n",
            " onal)                                                                                            \n",
            "                                                                                                  \n",
            " Dense_32 (Dense)            (None, 32)                   2080      ['bidirectional_9[0][0]']     \n",
            "                                                                                                  \n",
            " Dropout_Dense (Dropout)     (None, 32)                   0         ['Dense_32[0][0]']            \n",
            "                                                                                                  \n",
            " Output (Dense)              (None, 1)                    33        ['Dropout_Dense[0][0]']       \n",
            "                                                                                                  \n",
            "==================================================================================================\n",
            "Total params: 468865 (1.79 MB)\n",
            "Trainable params: 468481 (1.79 MB)\n",
            "Non-trainable params: 384 (1.50 KB)\n",
            "__________________________________________________________________________________________________\n"
          ]
        }
      ]
    },
    {
      "cell_type": "markdown",
      "source": [
        "**7. Biên dịch và định nghĩa checkpoint**"
      ],
      "metadata": {
        "id": "6qJ4oHv4cz5C"
      }
    },
    {
      "cell_type": "code",
      "source": [
        "optimizer = Adam(learning_rate=1e-4, clipvalue=1.0)  # Giảm learning rate xuống 1e-4\n",
        "\n",
        "model.compile(\n",
        "    loss='binary_crossentropy',\n",
        "    optimizer=optimizer,\n",
        "    metrics=['accuracy']\n",
        ")\n",
        "\n",
        "# Callback để lưu lại mô hình tốt nhất dựa trên val_accuracy\n",
        "checkpoint = ModelCheckpoint(\n",
        "    filepath=os.path.join(root_path, \"best_model.h5\"),\n",
        "    monitor='val_accuracy',\n",
        "    save_best_only=True,\n",
        "    mode='max',\n",
        "    verbose=1\n",
        ")\n",
        "\n",
        "# Callback để giảm learning rate khi không cải thiện val_accuracy\n",
        "lr_scheduler = ReduceLROnPlateau(\n",
        "    monitor='val_accuracy',\n",
        "    factor=0.5,  # Giảm lr xuống 50% mỗi lần không cải thiện\n",
        "    patience=3,\n",
        "    verbose=1,\n",
        "    mode='max',\n",
        "    min_lr=1e-6\n",
        ")\n",
        "\n",
        "# Callback để dừng huấn luyện sớm khi không cải thiện val_accuracy\n",
        "early_stop = EarlyStopping(\n",
        "    monitor='val_accuracy',\n",
        "    patience=20,\n",
        "    restore_best_weights=True,\n",
        "    mode='max',\n",
        "    verbose=1\n",
        ")\n",
        "\n",
        "callbacks = [checkpoint, lr_scheduler, early_stop]"
      ],
      "metadata": {
        "id": "QVc5QwDU9-Er"
      },
      "execution_count": null,
      "outputs": []
    },
    {
      "cell_type": "markdown",
      "source": [
        "**8. Huấn luyện mô hình**"
      ],
      "metadata": {
        "id": "SjhDfCReA6K4"
      }
    },
    {
      "cell_type": "code",
      "source": [
        "# Tính trọng số lớp từ tập Train\n",
        "from sklearn.utils import class_weight\n",
        "class_weights = class_weight.compute_class_weight('balanced',\n",
        "                                                 classes=np.unique(y_train),\n",
        "                                                 y=y_train)\n",
        "class_weights = dict(enumerate(class_weights))\n",
        "print(f\"Class weights: {class_weights}\")\n",
        "\n",
        "history = model.fit(\n",
        "    X_train, y_train,\n",
        "    epochs=100,\n",
        "    batch_size=64,\n",
        "    validation_data=(X_validation, y_validation),\n",
        "    callbacks=callbacks,\n",
        "    class_weight=class_weights  # Thêm class weights\n",
        ")"
      ],
      "metadata": {
        "colab": {
          "base_uri": "https://localhost:8080/"
        },
        "id": "hBCtOwBOpjGg",
        "outputId": "0fda7859-a4a3-4946-f040-a3b5093bd7d3"
      },
      "execution_count": null,
      "outputs": [
        {
          "output_type": "stream",
          "name": "stdout",
          "text": [
            "Class weights: {0: 1.1358361774744028, 1: 0.8931830381105743}\n",
            "Epoch 1/100\n",
            "51/52 [============================>.] - ETA: 0s - loss: 0.9505 - accuracy: 0.5987\n",
            "Epoch 1: val_accuracy improved from -inf to 0.56010, saving model to /content/drive/MyDrive/PBL6/best_model.h5\n"
          ]
        },
        {
          "output_type": "stream",
          "name": "stderr",
          "text": [
            "/usr/local/lib/python3.10/dist-packages/keras/src/engine/training.py:3103: UserWarning: You are saving your model as an HDF5 file via `model.save()`. This file format is considered legacy. We recommend using instead the native Keras format, e.g. `model.save('my_model.keras')`.\n",
            "  saving_api.save_model(\n"
          ]
        },
        {
          "output_type": "stream",
          "name": "stdout",
          "text": [
            "\b\b\b\b\b\b\b\b\b\b\b\b\b\b\b\b\b\b\b\b\b\b\b\b\b\b\b\b\b\b\b\b\b\b\b\b\b\b\b\b\b\b\b\b\b\b\b\b\b\b\b\b\b\b\b\b\b\b\b\b\b\b\b\b\b\b\b\b\b\b\b\b\b\b\b\b\b\b\b\b\b\b\r52/52 [==============================] - 11s 62ms/step - loss: 0.9514 - accuracy: 0.5962 - val_loss: 0.9626 - val_accuracy: 0.5601 - lr: 1.0000e-04\n",
            "Epoch 2/100\n",
            "51/52 [============================>.] - ETA: 0s - loss: 0.9276 - accuracy: 0.6124\n",
            "Epoch 2: val_accuracy improved from 0.56010 to 0.59135, saving model to /content/drive/MyDrive/PBL6/best_model.h5\n",
            "52/52 [==============================] - 2s 37ms/step - loss: 0.9273 - accuracy: 0.6124 - val_loss: 0.9453 - val_accuracy: 0.5913 - lr: 1.0000e-04\n",
            "Epoch 3/100\n",
            "51/52 [============================>.] - ETA: 0s - loss: 0.8898 - accuracy: 0.6627\n",
            "Epoch 3: val_accuracy improved from 0.59135 to 0.61058, saving model to /content/drive/MyDrive/PBL6/best_model.h5\n",
            "52/52 [==============================] - 2s 36ms/step - loss: 0.8885 - accuracy: 0.6629 - val_loss: 0.9243 - val_accuracy: 0.6106 - lr: 1.0000e-04\n",
            "Epoch 4/100\n",
            "51/52 [============================>.] - ETA: 0s - loss: 0.8061 - accuracy: 0.7577\n",
            "Epoch 4: val_accuracy improved from 0.61058 to 0.62981, saving model to /content/drive/MyDrive/PBL6/best_model.h5\n",
            "52/52 [==============================] - 2s 36ms/step - loss: 0.8048 - accuracy: 0.7593 - val_loss: 0.8738 - val_accuracy: 0.6298 - lr: 1.0000e-04\n",
            "Epoch 5/100\n",
            "51/52 [============================>.] - ETA: 0s - loss: 0.6375 - accuracy: 0.8762\n",
            "Epoch 5: val_accuracy improved from 0.62981 to 0.72115, saving model to /content/drive/MyDrive/PBL6/best_model.h5\n",
            "52/52 [==============================] - 2s 36ms/step - loss: 0.6354 - accuracy: 0.8771 - val_loss: 0.7597 - val_accuracy: 0.7212 - lr: 1.0000e-04\n",
            "Epoch 6/100\n",
            "51/52 [============================>.] - ETA: 0s - loss: 0.4937 - accuracy: 0.9231\n",
            "Epoch 6: val_accuracy improved from 0.72115 to 0.87740, saving model to /content/drive/MyDrive/PBL6/best_model.h5\n",
            "52/52 [==============================] - 2s 36ms/step - loss: 0.4928 - accuracy: 0.9231 - val_loss: 0.5728 - val_accuracy: 0.8774 - lr: 1.0000e-04\n",
            "Epoch 7/100\n",
            "51/52 [============================>.] - ETA: 0s - loss: 0.4269 - accuracy: 0.9412\n",
            "Epoch 7: val_accuracy improved from 0.87740 to 0.90385, saving model to /content/drive/MyDrive/PBL6/best_model.h5\n",
            "52/52 [==============================] - 2s 36ms/step - loss: 0.4252 - accuracy: 0.9420 - val_loss: 0.5003 - val_accuracy: 0.9038 - lr: 1.0000e-04\n",
            "Epoch 8/100\n",
            "51/52 [============================>.] - ETA: 0s - loss: 0.3774 - accuracy: 0.9583\n",
            "Epoch 8: val_accuracy did not improve from 0.90385\n",
            "52/52 [==============================] - 2s 34ms/step - loss: 0.3762 - accuracy: 0.9591 - val_loss: 0.4927 - val_accuracy: 0.9014 - lr: 1.0000e-04\n",
            "Epoch 9/100\n",
            "51/52 [============================>.] - ETA: 0s - loss: 0.3588 - accuracy: 0.9583\n",
            "Epoch 9: val_accuracy did not improve from 0.90385\n",
            "52/52 [==============================] - 2s 34ms/step - loss: 0.3600 - accuracy: 0.9579 - val_loss: 0.5022 - val_accuracy: 0.8918 - lr: 1.0000e-04\n",
            "Epoch 10/100\n",
            "51/52 [============================>.] - ETA: 0s - loss: 0.3313 - accuracy: 0.9697\n",
            "Epoch 10: val_accuracy improved from 0.90385 to 0.94231, saving model to /content/drive/MyDrive/PBL6/best_model.h5\n",
            "52/52 [==============================] - 2s 36ms/step - loss: 0.3309 - accuracy: 0.9697 - val_loss: 0.4063 - val_accuracy: 0.9423 - lr: 1.0000e-04\n",
            "Epoch 11/100\n",
            "51/52 [============================>.] - ETA: 0s - loss: 0.3170 - accuracy: 0.9730\n",
            "Epoch 11: val_accuracy did not improve from 0.94231\n",
            "52/52 [==============================] - 2s 34ms/step - loss: 0.3175 - accuracy: 0.9727 - val_loss: 0.4169 - val_accuracy: 0.9303 - lr: 1.0000e-04\n",
            "Epoch 12/100\n",
            "51/52 [============================>.] - ETA: 0s - loss: 0.3083 - accuracy: 0.9749\n",
            "Epoch 12: val_accuracy did not improve from 0.94231\n",
            "52/52 [==============================] - 2s 34ms/step - loss: 0.3086 - accuracy: 0.9751 - val_loss: 0.4918 - val_accuracy: 0.9231 - lr: 1.0000e-04\n",
            "Epoch 13/100\n",
            "51/52 [============================>.] - ETA: 0s - loss: 0.3016 - accuracy: 0.9740\n",
            "Epoch 13: val_accuracy improved from 0.94231 to 0.95192, saving model to /content/drive/MyDrive/PBL6/best_model.h5\n",
            "52/52 [==============================] - 2s 36ms/step - loss: 0.3015 - accuracy: 0.9739 - val_loss: 0.3895 - val_accuracy: 0.9519 - lr: 1.0000e-04\n",
            "Epoch 14/100\n",
            "51/52 [============================>.] - ETA: 0s - loss: 0.2783 - accuracy: 0.9838\n",
            "Epoch 14: val_accuracy did not improve from 0.95192\n",
            "52/52 [==============================] - 2s 34ms/step - loss: 0.2784 - accuracy: 0.9835 - val_loss: 0.4126 - val_accuracy: 0.9519 - lr: 1.0000e-04\n",
            "Epoch 15/100\n",
            "51/52 [============================>.] - ETA: 0s - loss: 0.2810 - accuracy: 0.9795\n",
            "Epoch 15: val_accuracy improved from 0.95192 to 0.96154, saving model to /content/drive/MyDrive/PBL6/best_model.h5\n",
            "52/52 [==============================] - 2s 36ms/step - loss: 0.2829 - accuracy: 0.9790 - val_loss: 0.3835 - val_accuracy: 0.9615 - lr: 1.0000e-04\n",
            "Epoch 16/100\n",
            "51/52 [============================>.] - ETA: 0s - loss: 0.2717 - accuracy: 0.9859\n",
            "Epoch 16: val_accuracy did not improve from 0.96154\n",
            "52/52 [==============================] - 2s 33ms/step - loss: 0.2734 - accuracy: 0.9853 - val_loss: 0.4316 - val_accuracy: 0.9351 - lr: 1.0000e-04\n",
            "Epoch 17/100\n",
            "51/52 [============================>.] - ETA: 0s - loss: 0.2676 - accuracy: 0.9835\n",
            "Epoch 17: val_accuracy did not improve from 0.96154\n",
            "52/52 [==============================] - 2s 34ms/step - loss: 0.2674 - accuracy: 0.9832 - val_loss: 0.3821 - val_accuracy: 0.9615 - lr: 1.0000e-04\n",
            "Epoch 18/100\n",
            "51/52 [============================>.] - ETA: 0s - loss: 0.2640 - accuracy: 0.9835\n",
            "Epoch 18: val_accuracy did not improve from 0.96154\n",
            "\n",
            "Epoch 18: ReduceLROnPlateau reducing learning rate to 4.999999873689376e-05.\n",
            "52/52 [==============================] - 2s 36ms/step - loss: 0.2641 - accuracy: 0.9835 - val_loss: 0.3925 - val_accuracy: 0.9543 - lr: 1.0000e-04\n",
            "Epoch 19/100\n",
            "51/52 [============================>.] - ETA: 0s - loss: 0.2442 - accuracy: 0.9920\n",
            "Epoch 19: val_accuracy did not improve from 0.96154\n",
            "52/52 [==============================] - 2s 33ms/step - loss: 0.2442 - accuracy: 0.9919 - val_loss: 0.3857 - val_accuracy: 0.9591 - lr: 5.0000e-05\n",
            "Epoch 20/100\n",
            "51/52 [============================>.] - ETA: 0s - loss: 0.2516 - accuracy: 0.9874\n",
            "Epoch 20: val_accuracy did not improve from 0.96154\n",
            "52/52 [==============================] - 2s 34ms/step - loss: 0.2510 - accuracy: 0.9877 - val_loss: 0.4457 - val_accuracy: 0.9399 - lr: 5.0000e-05\n",
            "Epoch 21/100\n",
            "51/52 [============================>.] - ETA: 0s - loss: 0.2487 - accuracy: 0.9890\n",
            "Epoch 21: val_accuracy did not improve from 0.96154\n",
            "\n",
            "Epoch 21: ReduceLROnPlateau reducing learning rate to 2.499999936844688e-05.\n",
            "52/52 [==============================] - 2s 33ms/step - loss: 0.2486 - accuracy: 0.9889 - val_loss: 0.3891 - val_accuracy: 0.9591 - lr: 5.0000e-05\n",
            "Epoch 22/100\n",
            "51/52 [============================>.] - ETA: 0s - loss: 0.2450 - accuracy: 0.9871\n",
            "Epoch 22: val_accuracy did not improve from 0.96154\n",
            "52/52 [==============================] - 2s 35ms/step - loss: 0.2445 - accuracy: 0.9874 - val_loss: 0.3830 - val_accuracy: 0.9591 - lr: 2.5000e-05\n",
            "Epoch 23/100\n",
            "51/52 [============================>.] - ETA: 0s - loss: 0.2411 - accuracy: 0.9899\n",
            "Epoch 23: val_accuracy did not improve from 0.96154\n",
            "52/52 [==============================] - 2s 34ms/step - loss: 0.2431 - accuracy: 0.9892 - val_loss: 0.3785 - val_accuracy: 0.9591 - lr: 2.5000e-05\n",
            "Epoch 24/100\n",
            "51/52 [============================>.] - ETA: 0s - loss: 0.2405 - accuracy: 0.9893\n",
            "Epoch 24: val_accuracy did not improve from 0.96154\n",
            "\n",
            "Epoch 24: ReduceLROnPlateau reducing learning rate to 1.249999968422344e-05.\n",
            "52/52 [==============================] - 2s 34ms/step - loss: 0.2400 - accuracy: 0.9895 - val_loss: 0.3801 - val_accuracy: 0.9591 - lr: 2.5000e-05\n",
            "Epoch 25/100\n",
            "51/52 [============================>.] - ETA: 0s - loss: 0.2361 - accuracy: 0.9908\n",
            "Epoch 25: val_accuracy improved from 0.96154 to 0.96635, saving model to /content/drive/MyDrive/PBL6/best_model.h5\n",
            "52/52 [==============================] - 2s 40ms/step - loss: 0.2357 - accuracy: 0.9910 - val_loss: 0.3713 - val_accuracy: 0.9663 - lr: 1.2500e-05\n",
            "Epoch 26/100\n",
            "51/52 [============================>.] - ETA: 0s - loss: 0.2327 - accuracy: 0.9914\n",
            "Epoch 26: val_accuracy did not improve from 0.96635\n",
            "52/52 [==============================] - 2s 34ms/step - loss: 0.2346 - accuracy: 0.9913 - val_loss: 0.3696 - val_accuracy: 0.9663 - lr: 1.2500e-05\n",
            "Epoch 27/100\n",
            "51/52 [============================>.] - ETA: 0s - loss: 0.2338 - accuracy: 0.9911\n",
            "Epoch 27: val_accuracy improved from 0.96635 to 0.96875, saving model to /content/drive/MyDrive/PBL6/best_model.h5\n",
            "52/52 [==============================] - 2s 35ms/step - loss: 0.2335 - accuracy: 0.9913 - val_loss: 0.3675 - val_accuracy: 0.9688 - lr: 1.2500e-05\n",
            "Epoch 28/100\n",
            "51/52 [============================>.] - ETA: 0s - loss: 0.2378 - accuracy: 0.9914\n",
            "Epoch 28: val_accuracy did not improve from 0.96875\n",
            "52/52 [==============================] - 2s 33ms/step - loss: 0.2373 - accuracy: 0.9916 - val_loss: 0.3652 - val_accuracy: 0.9688 - lr: 1.2500e-05\n",
            "Epoch 29/100\n",
            "51/52 [============================>.] - ETA: 0s - loss: 0.2329 - accuracy: 0.9926\n",
            "Epoch 29: val_accuracy did not improve from 0.96875\n",
            "52/52 [==============================] - 2s 33ms/step - loss: 0.2335 - accuracy: 0.9925 - val_loss: 0.3644 - val_accuracy: 0.9663 - lr: 1.2500e-05\n",
            "Epoch 30/100\n",
            "51/52 [============================>.] - ETA: 0s - loss: 0.2341 - accuracy: 0.9917\n",
            "Epoch 30: val_accuracy did not improve from 0.96875\n",
            "\n",
            "Epoch 30: ReduceLROnPlateau reducing learning rate to 6.24999984211172e-06.\n",
            "52/52 [==============================] - 2s 33ms/step - loss: 0.2338 - accuracy: 0.9916 - val_loss: 0.3653 - val_accuracy: 0.9663 - lr: 1.2500e-05\n",
            "Epoch 31/100\n",
            "51/52 [============================>.] - ETA: 0s - loss: 0.2323 - accuracy: 0.9920\n",
            "Epoch 31: val_accuracy did not improve from 0.96875\n",
            "52/52 [==============================] - 2s 34ms/step - loss: 0.2330 - accuracy: 0.9919 - val_loss: 0.3710 - val_accuracy: 0.9615 - lr: 6.2500e-06\n",
            "Epoch 32/100\n",
            "51/52 [============================>.] - ETA: 0s - loss: 0.2354 - accuracy: 0.9911\n",
            "Epoch 32: val_accuracy did not improve from 0.96875\n",
            "52/52 [==============================] - 2s 34ms/step - loss: 0.2361 - accuracy: 0.9910 - val_loss: 0.3650 - val_accuracy: 0.9688 - lr: 6.2500e-06\n",
            "Epoch 33/100\n",
            "51/52 [============================>.] - ETA: 0s - loss: 0.2347 - accuracy: 0.9914\n",
            "Epoch 33: val_accuracy did not improve from 0.96875\n",
            "\n",
            "Epoch 33: ReduceLROnPlateau reducing learning rate to 3.12499992105586e-06.\n",
            "52/52 [==============================] - 2s 34ms/step - loss: 0.2353 - accuracy: 0.9913 - val_loss: 0.3755 - val_accuracy: 0.9567 - lr: 6.2500e-06\n",
            "Epoch 34/100\n",
            "51/52 [============================>.] - ETA: 0s - loss: 0.2324 - accuracy: 0.9926\n",
            "Epoch 34: val_accuracy did not improve from 0.96875\n",
            "52/52 [==============================] - 2s 33ms/step - loss: 0.2320 - accuracy: 0.9928 - val_loss: 0.3657 - val_accuracy: 0.9688 - lr: 3.1250e-06\n",
            "Epoch 35/100\n",
            "51/52 [============================>.] - ETA: 0s - loss: 0.2345 - accuracy: 0.9911\n",
            "Epoch 35: val_accuracy did not improve from 0.96875\n",
            "52/52 [==============================] - 2s 33ms/step - loss: 0.2350 - accuracy: 0.9910 - val_loss: 0.3656 - val_accuracy: 0.9688 - lr: 3.1250e-06\n",
            "Epoch 36/100\n",
            "51/52 [============================>.] - ETA: 0s - loss: 0.2280 - accuracy: 0.9945\n",
            "Epoch 36: val_accuracy did not improve from 0.96875\n",
            "\n",
            "Epoch 36: ReduceLROnPlateau reducing learning rate to 1.56249996052793e-06.\n",
            "52/52 [==============================] - 2s 34ms/step - loss: 0.2279 - accuracy: 0.9946 - val_loss: 0.3647 - val_accuracy: 0.9688 - lr: 3.1250e-06\n",
            "Epoch 37/100\n",
            "51/52 [============================>.] - ETA: 0s - loss: 0.2268 - accuracy: 0.9933\n",
            "Epoch 37: val_accuracy did not improve from 0.96875\n",
            "52/52 [==============================] - 2s 34ms/step - loss: 0.2266 - accuracy: 0.9934 - val_loss: 0.3645 - val_accuracy: 0.9688 - lr: 1.5625e-06\n",
            "Epoch 38/100\n",
            "51/52 [============================>.] - ETA: 0s - loss: 0.2303 - accuracy: 0.9930\n",
            "Epoch 38: val_accuracy did not improve from 0.96875\n",
            "52/52 [==============================] - 2s 34ms/step - loss: 0.2310 - accuracy: 0.9928 - val_loss: 0.3647 - val_accuracy: 0.9688 - lr: 1.5625e-06\n",
            "Epoch 39/100\n",
            "51/52 [============================>.] - ETA: 0s - loss: 0.2278 - accuracy: 0.9936\n",
            "Epoch 39: val_accuracy did not improve from 0.96875\n",
            "\n",
            "Epoch 39: ReduceLROnPlateau reducing learning rate to 1e-06.\n",
            "52/52 [==============================] - 2s 34ms/step - loss: 0.2280 - accuracy: 0.9937 - val_loss: 0.3643 - val_accuracy: 0.9688 - lr: 1.5625e-06\n",
            "Epoch 40/100\n",
            "51/52 [============================>.] - ETA: 0s - loss: 0.2301 - accuracy: 0.9893\n",
            "Epoch 40: val_accuracy did not improve from 0.96875\n",
            "52/52 [==============================] - 2s 34ms/step - loss: 0.2298 - accuracy: 0.9895 - val_loss: 0.3643 - val_accuracy: 0.9688 - lr: 1.0000e-06\n",
            "Epoch 41/100\n",
            "51/52 [============================>.] - ETA: 0s - loss: 0.2294 - accuracy: 0.9923\n",
            "Epoch 41: val_accuracy did not improve from 0.96875\n",
            "52/52 [==============================] - 2s 34ms/step - loss: 0.2290 - accuracy: 0.9925 - val_loss: 0.3646 - val_accuracy: 0.9688 - lr: 1.0000e-06\n",
            "Epoch 42/100\n",
            "51/52 [============================>.] - ETA: 0s - loss: 0.2266 - accuracy: 0.9942\n",
            "Epoch 42: val_accuracy did not improve from 0.96875\n",
            "52/52 [==============================] - 2s 34ms/step - loss: 0.2265 - accuracy: 0.9940 - val_loss: 0.3644 - val_accuracy: 0.9688 - lr: 1.0000e-06\n",
            "Epoch 43/100\n",
            "51/52 [============================>.] - ETA: 0s - loss: 0.2332 - accuracy: 0.9920\n",
            "Epoch 43: val_accuracy did not improve from 0.96875\n",
            "52/52 [==============================] - 2s 34ms/step - loss: 0.2330 - accuracy: 0.9922 - val_loss: 0.3649 - val_accuracy: 0.9688 - lr: 1.0000e-06\n",
            "Epoch 44/100\n",
            "51/52 [============================>.] - ETA: 0s - loss: 0.2296 - accuracy: 0.9926\n",
            "Epoch 44: val_accuracy did not improve from 0.96875\n",
            "52/52 [==============================] - 2s 33ms/step - loss: 0.2293 - accuracy: 0.9928 - val_loss: 0.3642 - val_accuracy: 0.9688 - lr: 1.0000e-06\n",
            "Epoch 45/100\n",
            "51/52 [============================>.] - ETA: 0s - loss: 0.2293 - accuracy: 0.9917\n",
            "Epoch 45: val_accuracy did not improve from 0.96875\n",
            "52/52 [==============================] - 2s 33ms/step - loss: 0.2293 - accuracy: 0.9916 - val_loss: 0.3640 - val_accuracy: 0.9688 - lr: 1.0000e-06\n",
            "Epoch 46/100\n",
            "51/52 [============================>.] - ETA: 0s - loss: 0.2282 - accuracy: 0.9917\n",
            "Epoch 46: val_accuracy did not improve from 0.96875\n",
            "52/52 [==============================] - 2s 34ms/step - loss: 0.2279 - accuracy: 0.9919 - val_loss: 0.3637 - val_accuracy: 0.9688 - lr: 1.0000e-06\n",
            "Epoch 47/100\n",
            "51/52 [============================>.] - ETA: 0s - loss: 0.2313 - accuracy: 0.9920\n",
            "Epoch 47: val_accuracy did not improve from 0.96875\n",
            "Restoring model weights from the end of the best epoch: 27.\n",
            "52/52 [==============================] - 2s 36ms/step - loss: 0.2308 - accuracy: 0.9922 - val_loss: 0.3639 - val_accuracy: 0.9688 - lr: 1.0000e-06\n",
            "Epoch 47: early stopping\n"
          ]
        }
      ]
    },
    {
      "cell_type": "markdown",
      "source": [
        "**9. Đánh giá trên tập test và trục quan biểu độ loss, acc**"
      ],
      "metadata": {
        "id": "Ya7bmf4aBHSb"
      }
    },
    {
      "cell_type": "code",
      "source": [
        "# Đánh giá trên tập test\n",
        "loss, accuracy = model.evaluate(X_test, y_test)\n",
        "print(f\"Test Loss: {loss}\")\n",
        "print(f\"Test Accuracy: {accuracy}\")\n"
      ],
      "metadata": {
        "colab": {
          "base_uri": "https://localhost:8080/"
        },
        "id": "pvQexvJFrOQ5",
        "outputId": "783a971e-ba31-4b7b-8113-17be281f1325"
      },
      "execution_count": null,
      "outputs": [
        {
          "output_type": "stream",
          "name": "stdout",
          "text": [
            "14/14 [==============================] - 0s 9ms/step - loss: 0.3619 - accuracy: 0.9617\n",
            "Test Loss: 0.36185652017593384\n",
            "Test Accuracy: 0.9617224931716919\n"
          ]
        }
      ]
    },
    {
      "cell_type": "code",
      "source": [
        "import matplotlib.pyplot as plt\n",
        "\n",
        "# Vẽ đồ thị Accuracy\n",
        "plt.figure(figsize=(12, 4))\n",
        "plt.subplot(1, 2, 1)\n",
        "plt.plot(history.history['accuracy'], label='Train Accuracy')\n",
        "plt.plot(history.history['val_accuracy'], label='Validation Accuracy')\n",
        "plt.title('Accuracy over Epochs')\n",
        "plt.xlabel('Epoch')\n",
        "plt.ylabel('Accuracy')\n",
        "plt.legend()\n",
        "\n",
        "# Vẽ đồ thị Loss\n",
        "plt.subplot(1, 2, 2)\n",
        "plt.plot(history.history['loss'], label='Train Loss')\n",
        "plt.plot(history.history['val_loss'], label='Validation Loss')\n",
        "plt.title('Loss over Epochs')\n",
        "plt.xlabel('Epoch')\n",
        "plt.ylabel('Loss')\n",
        "plt.legend()\n",
        "\n",
        "plt.show()\n"
      ],
      "metadata": {
        "colab": {
          "base_uri": "https://localhost:8080/",
          "height": 410
        },
        "id": "sjRQP0XtO6In",
        "outputId": "be68b79f-c3c7-4b3a-e772-1e8f6919b87a"
      },
      "execution_count": null,
      "outputs": [
        {
          "output_type": "display_data",
          "data": {
            "text/plain": [
              "<Figure size 1200x400 with 2 Axes>"
            ],
            "image/png": "[encoded data removed]"
          },
          "metadata": {}
        }
      ]
    },
    {
      "cell_type": "markdown",
      "source": [
        "**10. Save Model**\n"
      ],
      "metadata": {
        "id": "EzSzf9XDBci_"
      }
    },
    {
      "cell_type": "code",
      "source": [
        "model.save(os.path.join(root_path, \"best_model.h5\"))\n",
        "print(\"Đã lưu mô hình vào '/content/drive/MyDrive/PBL6/best_model.h5'\")"
      ],
      "metadata": {
        "colab": {
          "base_uri": "https://localhost:8080/"
        },
        "id": "pUEDImcT9Czm",
        "outputId": "fe7dec2d-37cd-4af9-b1f8-6f2586e7089d"
      },
      "execution_count": null,
      "outputs": [
        {
          "output_type": "stream",
          "name": "stdout",
          "text": [
            "Đã lưu mô hình vào '/content/drive/MyDrive/PBL6/best_model.h5'\n"
          ]
        }
      ]
    },
    {
      "cell_type": "markdown",
      "source": [
        "**11. Test Model**"
      ],
      "metadata": {
        "id": "bMU6sR7vLn40"
      }
    },
    {
      "cell_type": "code",
      "source": [
        "# 1. Import Các Thư Viện Cần Thiết\n",
        "import numpy as np\n",
        "import pandas as pd\n",
        "import os\n",
        "from collections import Counter\n",
        "from sklearn.utils import class_weight\n",
        "from sklearn.metrics import classification_report, roc_auc_score, confusion_matrix, accuracy_score, f1_score, precision_score, recall_score\n",
        "import matplotlib.pyplot as plt\n",
        "import seaborn as sns\n",
        "import tensorflow as tf\n",
        "from tensorflow.keras.models import load_model\n",
        "from tensorflow.keras.preprocessing.sequence import pad_sequences\n",
        "\n",
        "# 2. Định Nghĩa Đường Dẫn Tới Các Tệp Dữ Liệu và Mô Hình\n",
        "root_path = \"/content/drive/MyDrive/PBL6\"  # Thay đổi nếu cần\n",
        "data_path = os.path.join(root_path, \"DATASET\")\n",
        "voca_path = os.path.join(root_path, \"voca.txt\")\n",
        "model_path = os.path.join(root_path, \"best_model.h5\")\n",
        "test1_path = os.path.join(data_path, \"test.csv\")  # Đường dẫn tới test1.txt\n",
        "\n",
        "# 3. Load Từ Điển Từ voca.txt\n",
        "vocab = {}\n",
        "with open(voca_path, 'r', encoding='utf-8') as f:\n",
        "    for line in f:\n",
        "        parts = line.strip().split('\\t')\n",
        "        if len(parts) == 2:\n",
        "            word, idx = parts\n",
        "            vocab[word] = int(idx)\n",
        "\n",
        "print(f\"Loaded vocabulary size: {len(vocab)}\")\n",
        "\n",
        "# 4. Load và Tiền Xử Lý Dữ Liệu từ test1.txt\n",
        "# Giả sử test1.txt là CSV với các cột 'review' và 'label'\n",
        "test1_df = pd.read_csv(test1_path)\n",
        "print(\"Loaded Test1 Data:\")\n",
        "print(test1_df.head())\n",
        "\n",
        "# Kiểm tra xem có cột 'label' không\n",
        "has_labels = 'label' in test1_df.columns\n",
        "\n",
        "# Hàm chuyển đổi văn bản thành chuỗi số\n",
        "def text_to_sequence(text, vocab):\n",
        "    \"\"\"\n",
        "    Chuyển đổi văn bản thành chuỗi số dựa trên từ điển.\n",
        "    Giữ nguyên thứ tự từ trong câu.\n",
        "    \"\"\"\n",
        "    words = text.split()\n",
        "    sequence = []\n",
        "    for word in words:\n",
        "        if word.isdigit():\n",
        "            sequence.append(vocab.get('digit', 1))\n",
        "        elif word in vocab:\n",
        "            sequence.append(vocab[word])\n",
        "        else:\n",
        "            sequence.append(vocab.get('unknown', 2))\n",
        "    return sequence\n",
        "\n",
        "max_length = 25  # Đã được yêu cầu\n",
        "\n",
        "# Chuyển đổi và pad chuỗi\n",
        "X_test1 = pad_sequences(\n",
        "    test1_df['review'].apply(lambda x: text_to_sequence(x, vocab)).tolist(),\n",
        "    maxlen=max_length,\n",
        "    padding='post',\n",
        "    truncating='post',\n",
        "    value=vocab['<PAD>']\n",
        ")\n",
        "\n",
        "# Nếu có nhãn, lấy nhãn\n",
        "if has_labels:\n",
        "    y_test1 = test1_df['label'].values\n",
        "else:\n",
        "    y_test1 = None\n",
        "\n",
        "print(f\"Shape of X_test1: {X_test1.shape}\")\n",
        "if has_labels:\n",
        "    print(f\"Shape of y_test1: {y_test1.shape}\")\n",
        "\n",
        "# 5. Load Mô Hình Đã Huấn Luyện\n",
        "model = load_model(model_path)\n",
        "print(\"Model loaded successfully.\")\n",
        "\n",
        "# 6. Dự Đoán Nhãn Cho Dữ Liệu Mới\n",
        "y_pred_prob = model.predict(X_test1)\n",
        "y_pred = (y_pred_prob > 0.5).astype(int).reshape(-1)\n",
        "\n",
        "# 7. So Sánh Nhãn Thực Tế với Nhãn Dự Đoán và Tính Các Chỉ Số Đánh Giá\n",
        "if has_labels:\n",
        "    accuracy = accuracy_score(y_test1, y_pred)\n",
        "    precision = precision_score(y_test1, y_pred, zero_division=0)\n",
        "    recall = recall_score(y_test1, y_pred, zero_division=0)\n",
        "    f1 = f1_score(y_test1, y_pred, zero_division=0)\n",
        "    auc = roc_auc_score(y_test1, y_pred_prob)\n",
        "\n",
        "    print(f\"Accuracy: {accuracy:.4f}\")\n",
        "    print(f\"Precision: {precision:.4f}\")\n",
        "    print(f\"Recall: {recall:.4f}\")\n",
        "    print(f\"F1-Score: {f1:.4f}\")\n",
        "    print(f\"AUC-ROC: {auc:.4f}\")\n",
        "\n",
        "    print(\"\\nClassification Report:\")\n",
        "    print(classification_report(y_test1, y_pred, digits=4))\n",
        "\n",
        "    # 8. Hiển Thị Ma Trận Confusion Matrix\n",
        "    cm = confusion_matrix(y_test1, y_pred)\n",
        "    plt.figure(figsize=(6,4))\n",
        "    sns.heatmap(cm, annot=True, fmt='d', cmap='Blues')\n",
        "    plt.xlabel('Predicted Label')\n",
        "    plt.ylabel('True Label')\n",
        "    plt.title('Confusion Matrix for Test1')\n",
        "    plt.show()\n",
        "\n",
        "    # 9. Lưu Kết Quả Dự Đoán (Tuỳ Chọn)\n",
        "    # Thêm cột dự đoán vào dataframe\n",
        "    test1_df['predicted_label'] = y_pred\n",
        "    # Lưu vào tệp mới\n",
        "    output_path = os.path.join(data_path, \"test1_predictions.csv\")\n",
        "    test1_df.to_csv(output_path, index=False)\n",
        "    print(f\"Predictions saved to {output_path}\")\n",
        "else:\n",
        "    # Nếu không có nhãn thực tế, chỉ in ra dự đoán\n",
        "    print(\"No labels available in 'test1.txt'. Predictions:\")\n",
        "    test1_df['predicted_label'] = y_pred\n",
        "    print(test1_df.head())\n",
        "    # Lưu dự đoán vào tệp mới\n",
        "    output_path = os.path.join(data_path, \"test1_predictions.csv\")\n",
        "    test1_df.to_csv(output_path, index=False)\n",
        "    print(f\"Predictions saved to {output_path}\")\n"
      ],
      "metadata": {
        "colab": {
          "base_uri": "https://localhost:8080/",
          "height": 913
        },
        "id": "czEwoKeSLnsA",
        "outputId": "bc08bc4f-341e-48db-b974-fa7b1a78e660"
      },
      "execution_count": null,
      "outputs": [
        {
          "output_type": "stream",
          "name": "stdout",
          "text": [
            "Loaded vocabulary size: 1713\n",
            "Loaded Test1 Data:\n",
            "                                              review  label\n",
            "0  gởi hàng đúng quảng_cáo giá rẻ dùng ok giá thì...      1\n",
            "1                                 dễ sử_dụng bảo_trì      1\n",
            "2  hàng đóng_gói cẩn_thận chất_lượng sản_phẩm ổn ...      1\n",
            "3  ổn mới mua về chưa sạc nên đèn hơi yếu cắm điệ...      0\n",
            "4                             hàng giả nha mọi người      0\n",
            "Shape of X_test1: (418, 25)\n",
            "Shape of y_test1: (418,)\n",
            "Model loaded successfully.\n",
            "14/14 [==============================] - 1s 18ms/step\n",
            "Accuracy: 0.9617\n",
            "Precision: 0.9619\n",
            "Recall: 0.9701\n",
            "F1-Score: 0.9660\n",
            "AUC-ROC: 0.9831\n",
            "\n",
            "Classification Report:\n",
            "              precision    recall  f1-score   support\n",
            "\n",
            "           0     0.9615    0.9511    0.9563       184\n",
            "           1     0.9619    0.9701    0.9660       234\n",
            "\n",
            "    accuracy                         0.9617       418\n",
            "   macro avg     0.9617    0.9606    0.9611       418\n",
            "weighted avg     0.9617    0.9617    0.9617       418\n",
            "\n"
          ]
        },
        {
          "output_type": "display_data",
          "data": {
            "text/plain": [
              "<Figure size 600x400 with 2 Axes>"
            ],
            "image/png": "[encoded data removed]"
          },
          "metadata": {}
        },
        {
          "output_type": "stream",
          "name": "stdout",
          "text": [
            "Predictions saved to /content/drive/MyDrive/PBL6/DATASET/test1_predictions.csv\n"
          ]
        }
      ]
    },
    {
      "cell_type": "code",
      "source": [
        "\n"
      ],
      "metadata": {
        "id": "CPSpww-yLidv"
      },
      "execution_count": null,
      "outputs": []
    },
    {
      "cell_type": "markdown",
      "source": [],
      "metadata": {
        "id": "ALRwAKmIMDeg"
      }
    }
  ]
}